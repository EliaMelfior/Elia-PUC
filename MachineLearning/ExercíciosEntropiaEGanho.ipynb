{
 "cells": [
  {
   "cell_type": "code",
   "execution_count": 11,
   "metadata": {},
   "outputs": [
    {
     "name": "stdout",
     "output_type": "stream",
     "text": [
      "0.7062740891876007\n"
     ]
    }
   ],
   "source": [
    "import math\n",
    "PT1 = 21/26\n",
    "PT2 = 5/26\n",
    "log2PT1 = math.log(PT1,2) \n",
    "log2PT2 = math.log(PT2,2)\n",
    "\n",
    "print( -(PT1*log2PT1) - (PT2*log2PT2))"
   ]
  },
  {
   "cell_type": "code",
   "execution_count": 10,
   "metadata": {},
   "outputs": [
    {
     "name": "stdout",
     "output_type": "stream",
     "text": [
      "0.7424875695421236\n"
     ]
    }
   ],
   "source": [
    "import math\n",
    "PT1 = 8/38\n",
    "PT2 = 30/38\n",
    "log2PT1 = math.log(PT1,2) \n",
    "log2PT2 = math.log(PT2,2)\n",
    "\n",
    "print( -(PT1*log2PT1) - (PT2*log2PT2))"
   ]
  },
  {
   "cell_type": "code",
   "execution_count": 13,
   "metadata": {},
   "outputs": [
    {
     "name": "stdout",
     "output_type": "stream",
     "text": [
      "0.9366673818775626\n"
     ]
    }
   ],
   "source": [
    "import math\n",
    "PT1 = 18/(51)\n",
    "PT2 = 33/(51)\n",
    "log2PT1 = math.log(PT1,2) \n",
    "log2PT2 = math.log(PT2,2)\n",
    "\n",
    "print( -(PT1*log2PT1) - (PT2*log2PT2))"
   ]
  },
  {
   "cell_type": "code",
   "execution_count": 14,
   "metadata": {},
   "outputs": [
    {
     "name": "stdout",
     "output_type": "stream",
     "text": [
      "0.6193821946787638\n"
     ]
    }
   ],
   "source": [
    "import math\n",
    "PT1 = 11/13\n",
    "PT2 = 2/13\n",
    "log2PT1 = math.log(PT1,2) \n",
    "log2PT2 = math.log(PT2,2)\n",
    "\n",
    "print( -(PT1*log2PT1) - (PT2*log2PT2))"
   ]
  },
  {
   "cell_type": "code",
   "execution_count": null,
   "metadata": {},
   "outputs": [],
   "source": []
  }
 ],
 "metadata": {
  "kernelspec": {
   "display_name": "Python 3",
   "language": "python",
   "name": "python3"
  },
  "language_info": {
   "codemirror_mode": {
    "name": "ipython",
    "version": 3
   },
   "file_extension": ".py",
   "mimetype": "text/x-python",
   "name": "python",
   "nbconvert_exporter": "python",
   "pygments_lexer": "ipython3",
   "version": "3.6.5"
  }
 },
 "nbformat": 4,
 "nbformat_minor": 2
}
