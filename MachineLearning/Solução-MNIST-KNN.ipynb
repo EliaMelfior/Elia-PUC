{
 "cells": [
  {
   "cell_type": "markdown",
   "metadata": {},
   "source": [
    "# Fonte - http://blog.povilasb.com/posts/mnist-with-scikit-learn/"
   ]
  },
  {
   "cell_type": "code",
   "execution_count": null,
   "metadata": {},
   "outputs": [],
   "source": [
    "from sklearn import datasets\n",
    "from sklearn.neighbors import KNeighborsClassifier\n",
    "from sklearn.model_selection import train_test_split\n",
    "from sklearn.metrics import accuracy_score\n",
    "\n",
    "mnist = datasets.fetch_mldata('MNIST original', data_home='data')\n",
    "train_data, test_data, train_labels, test_labels = train_test_split(\n",
    "    mnist.data, mnist.target)\n",
    "\n",
    "clf = KNeighborsClassifier()\n",
    "clf.fit(train_data, train_labels)\n",
    "\n",
    "predicted_labels = clf.predict(test_data)\n",
    "print('Prediction accuracy:', accuracy_score(test_labels, predicted_labels))"
   ]
  },
  {
   "cell_type": "code",
   "execution_count": null,
   "metadata": {},
   "outputs": [],
   "source": []
  }
 ],
 "metadata": {
  "kernelspec": {
   "display_name": "Python 3",
   "language": "python",
   "name": "python3"
  },
  "language_info": {
   "codemirror_mode": {
    "name": "ipython",
    "version": 3
   },
   "file_extension": ".py",
   "mimetype": "text/x-python",
   "name": "python",
   "nbconvert_exporter": "python",
   "pygments_lexer": "ipython3",
   "version": "3.6.5"
  }
 },
 "nbformat": 4,
 "nbformat_minor": 2
}
