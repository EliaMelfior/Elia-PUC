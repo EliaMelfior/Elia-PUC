{
 "cells": [
  {
   "cell_type": "markdown",
   "metadata": {
    "colab_type": "text",
    "id": "zTlERhU2qHxz",
    "slideshow": {
     "slide_type": "slide"
    }
   },
   "source": [
    "# Exercício *Iris*\n",
    "\n",
    "- 50 amostras de 3 espécies diferentes de íris (150 amostras no total)\n",
    "- Medidas: comprimento da sépala, largura da sépala, comprimento da pétala, largura da pétala\n",
    "\n",
    "![](https://raw.githubusercontent.com/justmarkham/scikit-learn-videos/e43b96424ad781f57d492ce36351693aad01902a/images/03_iris.png)\n",
    "\n",
    "## Aprendizado de máquina no conjunto de dados da íris\n",
    "\n",
    "Enquadrado como um problema de **aprendizado supervisionado**: Preveja as espécies de uma íris usando as suas medidas. \n",
    "\n",
    "- Famoso conjunto de dados para aprendizado de máquina porque a previsão é **fácil**\n",
    "- Saiba mais sobre o conjunto de dados da íris: [UCI Machine Learning Repository] (http://archive.ics.uci.edu/ml/datasets/Iris)\n",
    "- Cada linha é uma **observação** (também conhecida como: exemplo, amostra, sample)\n",
    "- Cada coluna é uma **feature** (também conhecido como: preditor, atributo, variável independente)\n",
    "- Cada valor que estamos prevendo é a resposta (também conhecida como: target, outcome, label, dependent variable)\n",
    "- A classificação é um aprendizado supervisionado no qual a resposta é categórica\n",
    "- Regressão é a aprendizagem supervisionada em que a resposta é ordenada e contínua"
   ]
  },
  {
   "cell_type": "code",
   "execution_count": null,
   "metadata": {},
   "outputs": [],
   "source": []
  },
  {
   "cell_type": "markdown",
   "metadata": {
    "colab_type": "text",
    "id": "xpwsI-9cshoE"
   },
   "source": [
    "# **Resolução do Exercício do Iris DataSet  **"
   ]
  },
  {
   "cell_type": "markdown",
   "metadata": {
    "colab_type": "text",
    "id": "fk-5DYJaRREv"
   },
   "source": [
    "**Importa a função train_test_split e cria variáveis de treinamento e de teste**   \n",
    "X_train = 120 registros para treinamento (80%)  \n",
    "X_test = 30 registros para testes (20%)  \n",
    "y_train = 120 labels/targets para treinamento (80%)  \n",
    "y_test = 30 registros para treinamento (80%)  "
   ]
  },
  {
   "cell_type": "code",
   "execution_count": 1,
   "metadata": {
    "colab": {
     "autoexec": {
      "startup": false,
      "wait_interval": 0
     }
    },
    "colab_type": "code",
    "id": "9g-LTbyn2mFW"
   },
   "outputs": [],
   "source": [
    "from sklearn.model_selection import train_test_split\n",
    "from sklearn.datasets import load_iris\n",
    "import collections \n",
    "import numpy\n",
    "iris = load_iris()\n",
    "X_train, X_test, y_train, y_test = train_test_split(iris.data, iris.target, test_size=0.8, random_state=42)"
   ]
  },
  {
   "cell_type": "markdown",
   "metadata": {
    "colab_type": "text",
    "id": "UHxYFSxSZ0SW"
   },
   "source": [
    "# **Crie um classificador capaz de separar as 3 classes de plantas.**"
   ]
  },
  {
   "cell_type": "markdown",
   "metadata": {
    "colab_type": "text",
    "id": "mzpNOq_dRaTH"
   },
   "source": [
    "**Cria o classificador por SVM e treina com os datasets e labels de testes, e também mostra o score do modelo/classificador**"
   ]
  },
  {
   "cell_type": "code",
   "execution_count": 2,
   "metadata": {
    "colab": {
     "autoexec": {
      "startup": false,
      "wait_interval": 0
     },
     "base_uri": "https://localhost:8080/",
     "height": 34
    },
    "colab_type": "code",
    "executionInfo": {
     "elapsed": 640,
     "status": "ok",
     "timestamp": 1533395013904,
     "user": {
      "displayName": "ELIÂ MELFIOR",
      "photoUrl": "https://lh3.googleusercontent.com/a/default-user=s128",
      "userId": "110893755295740049493"
     },
     "user_tz": 180
    },
    "id": "r0uv9m0g4t9s",
    "outputId": "e7d59909-9291-44b2-b482-909986ab000b"
   },
   "outputs": [
    {
     "data": {
      "text/plain": [
       "0.975"
      ]
     },
     "execution_count": 2,
     "metadata": {},
     "output_type": "execute_result"
    }
   ],
   "source": [
    "from sklearn import svm\n",
    "\n",
    "classifier_svm = svm.SVC(probability=True)\n",
    "classifier_svm.fit(X_train, y_train)\n",
    "classifier_svm.score(X_test, y_test)\n"
   ]
  },
  {
   "cell_type": "markdown",
   "metadata": {
    "colab_type": "text",
    "id": "SsV1yZT6SHtO"
   },
   "source": [
    "**Cria o classificador por Linear Regression e treina com os datasets e labels de testes,  e também mostra o score do modelo/classificador**"
   ]
  },
  {
   "cell_type": "code",
   "execution_count": 3,
   "metadata": {
    "colab": {
     "autoexec": {
      "startup": false,
      "wait_interval": 0
     },
     "base_uri": "https://localhost:8080/",
     "height": 34
    },
    "colab_type": "code",
    "executionInfo": {
     "elapsed": 643,
     "status": "ok",
     "timestamp": 1533395016565,
     "user": {
      "displayName": "ELIÂ MELFIOR",
      "photoUrl": "https://lh3.googleusercontent.com/a/default-user=s128",
      "userId": "110893755295740049493"
     },
     "user_tz": 180
    },
    "id": "0nRX7HadSNae",
    "outputId": "2d80bcef-9554-4468-f876-14477ddd80b5"
   },
   "outputs": [
    {
     "data": {
      "text/plain": [
       "0.9127118690263774"
      ]
     },
     "execution_count": 3,
     "metadata": {},
     "output_type": "execute_result"
    }
   ],
   "source": [
    "from sklearn.linear_model import LinearRegression\n",
    "\n",
    "classifier_linear_regression = LinearRegression(fit_intercept=True, normalize=False)\n",
    "classifier_linear_regression.fit(X_train, y_train)\n",
    "classifier_linear_regression.score(X_test, y_test)"
   ]
  },
  {
   "cell_type": "markdown",
   "metadata": {
    "colab_type": "text",
    "id": "-QNNPjwyqHyU"
   },
   "source": [
    "# **Apresenteas métricas de validação Matriz de Confusão, Precision/Recall, F1 e ROC para este classificador.**\n"
   ]
  },
  {
   "cell_type": "markdown",
   "metadata": {
    "colab_type": "text",
    "id": "NUfPq6rxdjIa"
   },
   "source": [
    "**Importa a função plot_confusion_matrix **"
   ]
  },
  {
   "cell_type": "code",
   "execution_count": 0,
   "metadata": {
    "colab": {
     "autoexec": {
      "startup": false,
      "wait_interval": 0
     }
    },
    "colab_type": "code",
    "id": "ioPNp5qfqHyW"
   },
   "outputs": [],
   "source": [
    "from sklearn.metrics import confusion_matrix\n",
    "import matplotlib.pyplot as plt\n",
    "import numpy as np\n",
    "import itertools\n",
    "\n",
    "def plot_confusion_matrix(cm, classes,\n",
    "                          normalize=False,\n",
    "                          title='Confusion matrix',\n",
    "                          cmap=plt.cm.Blues):\n",
    "    \"\"\"\n",
    "    This function prints and plots the confusion matrix.\n",
    "    Normalization can be applied by setting `normalize=True`.\n",
    "    \"\"\"\n",
    "    if normalize:\n",
    "        cm = cm.astype('float') / cm.sum(axis=1)[:, np.newaxis]\n",
    "        print(\"Normalized confusion matrix\")\n",
    "    else:\n",
    "        print('Confusion matrix, without normalization')\n",
    "\n",
    "    print(cm)\n",
    "\n",
    "    plt.imshow(cm, interpolation='nearest', cmap=cmap)\n",
    "    plt.title(title)\n",
    "    plt.colorbar()\n",
    "    tick_marks = np.arange(len(classes))\n",
    "    plt.xticks(tick_marks, classes, rotation=45)\n",
    "    plt.yticks(tick_marks, classes)\n",
    "\n",
    "    fmt = '.2f' if normalize else 'd'\n",
    "    thresh = cm.max() / 2.\n",
    "    for i, j in itertools.product(range(cm.shape[0]), range(cm.shape[1])):\n",
    "        plt.text(j, i, format(cm[i, j], fmt),\n",
    "                 horizontalalignment=\"center\",\n",
    "                 color=\"white\" if cm[i, j] > thresh else \"black\")\n",
    "\n",
    "    plt.tight_layout()\n",
    "    plt.ylabel('True label')\n",
    "    plt.xlabel('Predicted label')\n",
    "    "
   ]
  },
  {
   "cell_type": "markdown",
   "metadata": {
    "colab_type": "text",
    "id": "7hNVfDnFdz6o"
   },
   "source": [
    "**Plota a confusion matrix**"
   ]
  },
  {
   "cell_type": "code",
   "execution_count": 0,
   "metadata": {
    "colab": {
     "autoexec": {
      "startup": false,
      "wait_interval": 0
     },
     "base_uri": "https://localhost:8080/",
     "height": 483
    },
    "colab_type": "code",
    "executionInfo": {
     "elapsed": 906,
     "status": "ok",
     "timestamp": 1533395091024,
     "user": {
      "displayName": "ELIÂ MELFIOR",
      "photoUrl": "https://lh3.googleusercontent.com/a/default-user=s128",
      "userId": "110893755295740049493"
     },
     "user_tz": 180
    },
    "id": "KcVj9T_nbcs_",
    "outputId": "fd03ce33-7ec8-4eda-c4bd-9d982d5c941a"
   },
   "outputs": [
    {
     "name": "stdout",
     "output_type": "stream",
     "text": [
      "Confusion matrix, without normalization\n",
      "[[43  0  0]\n",
      " [ 0 36  3]\n",
      " [ 0  0 38]]\n"
     ]
    },
    {
     "data": {
      "image/png": "[encoded data removed]",
      "text/plain": [
       "<matplotlib.figure.Figure at 0x7fbf0e865a90>"
      ]
     },
     "metadata": {
      "tags": []
     },
     "output_type": "display_data"
    }
   ],
   "source": [
    "y_pred = classifier_svm.fit(X_train, y_train).predict(X_test)\n",
    "\n",
    "cnf_matrix = confusion_matrix(y_test, y_pred)\n",
    "\n",
    "class_names = iris.target_names\n",
    "\n",
    "plot_confusion_matrix(cnf_matrix, classes=number_digits,\n",
    "                      title='Confusion matrix, without normalization')"
   ]
  }
 ],
 "metadata": {
  "colab": {
   "collapsed_sections": [],
   "default_view": {},
   "name": "ExercícioIris.ipynb",
   "provenance": [
    {
     "file_id": "1Af2KQ032sUiLdYagjXDgs6pTfWT_9pvg",
     "timestamp": 1533395173320
    }
   ],
   "version": "0.3.2",
   "views": {}
  },
  "kernelspec": {
   "display_name": "Python 3",
   "language": "python",
   "name": "python3"
  },
  "language_info": {
   "codemirror_mode": {
    "name": "ipython",
    "version": 3
   },
   "file_extension": ".py",
   "mimetype": "text/x-python",
   "name": "python",
   "nbconvert_exporter": "python",
   "pygments_lexer": "ipython3",
   "version": "3.6.5"
  }
 },
 "nbformat": 4,
 "nbformat_minor": 1
}
